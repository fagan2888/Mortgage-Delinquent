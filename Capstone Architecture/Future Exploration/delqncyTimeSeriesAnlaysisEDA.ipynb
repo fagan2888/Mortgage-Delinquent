{
 "cells": [
  {
   "cell_type": "code",
   "execution_count": 1,
   "metadata": {},
   "outputs": [],
   "source": [
    "from dateutil.parser import parse\n",
    "import pandas as pd\n",
    "import numpy as np\n",
    "import pingouin as pg\n",
    "import matplotlib.pyplot as plt\n",
    "import plotly.express as px\n",
    "import datetime\n",
    "import seaborn as sns"
   ]
  },
  {
   "cell_type": "code",
   "execution_count": 2,
   "metadata": {
    "scrolled": false
   },
   "outputs": [
    {
     "data": {
      "text/html": [
       "<div>\n",
       "<style scoped>\n",
       "    .dataframe tbody tr th:only-of-type {\n",
       "        vertical-align: middle;\n",
       "    }\n",
       "\n",
       "    .dataframe tbody tr th {\n",
       "        vertical-align: top;\n",
       "    }\n",
       "\n",
       "    .dataframe thead th {\n",
       "        text-align: right;\n",
       "    }\n",
       "</style>\n",
       "<table border=\"1\" class=\"dataframe\">\n",
       "  <thead>\n",
       "    <tr style=\"text-align: right;\">\n",
       "      <th></th>\n",
       "      <th>ln_seq_number</th>\n",
       "      <th>curr_actl_upb</th>\n",
       "      <th>curr_ln_delq_stas</th>\n",
       "      <th>ln_age</th>\n",
       "      <th>curr_int_rt</th>\n",
       "    </tr>\n",
       "    <tr>\n",
       "      <th>mth_reprt_prd</th>\n",
       "      <th></th>\n",
       "      <th></th>\n",
       "      <th></th>\n",
       "      <th></th>\n",
       "      <th></th>\n",
       "    </tr>\n",
       "  </thead>\n",
       "  <tbody>\n",
       "    <tr>\n",
       "      <td>2012-05-01</td>\n",
       "      <td>F112Q2008000</td>\n",
       "      <td>300000</td>\n",
       "      <td>0</td>\n",
       "      <td>0</td>\n",
       "      <td>3.875</td>\n",
       "    </tr>\n",
       "    <tr>\n",
       "      <td>2012-05-01</td>\n",
       "      <td>F112Q2008002</td>\n",
       "      <td>169000</td>\n",
       "      <td>0</td>\n",
       "      <td>0</td>\n",
       "      <td>4.250</td>\n",
       "    </tr>\n",
       "    <tr>\n",
       "      <td>2012-05-01</td>\n",
       "      <td>F112Q2008003</td>\n",
       "      <td>357000</td>\n",
       "      <td>0</td>\n",
       "      <td>0</td>\n",
       "      <td>3.625</td>\n",
       "    </tr>\n",
       "    <tr>\n",
       "      <td>2012-05-01</td>\n",
       "      <td>F112Q2008004</td>\n",
       "      <td>417000</td>\n",
       "      <td>0</td>\n",
       "      <td>0</td>\n",
       "      <td>4.000</td>\n",
       "    </tr>\n",
       "    <tr>\n",
       "      <td>2012-05-01</td>\n",
       "      <td>F112Q2008006</td>\n",
       "      <td>409000</td>\n",
       "      <td>0</td>\n",
       "      <td>0</td>\n",
       "      <td>4.125</td>\n",
       "    </tr>\n",
       "    <tr>\n",
       "      <td>2012-05-01</td>\n",
       "      <td>F112Q2008007</td>\n",
       "      <td>400000</td>\n",
       "      <td>0</td>\n",
       "      <td>0</td>\n",
       "      <td>4.000</td>\n",
       "    </tr>\n",
       "    <tr>\n",
       "      <td>2012-05-01</td>\n",
       "      <td>F112Q2008008</td>\n",
       "      <td>352000</td>\n",
       "      <td>0</td>\n",
       "      <td>0</td>\n",
       "      <td>4.000</td>\n",
       "    </tr>\n",
       "    <tr>\n",
       "      <td>2012-05-01</td>\n",
       "      <td>F112Q2008010</td>\n",
       "      <td>90000</td>\n",
       "      <td>0</td>\n",
       "      <td>0</td>\n",
       "      <td>4.125</td>\n",
       "    </tr>\n",
       "    <tr>\n",
       "      <td>2012-05-01</td>\n",
       "      <td>F112Q2008011</td>\n",
       "      <td>237000</td>\n",
       "      <td>0</td>\n",
       "      <td>0</td>\n",
       "      <td>3.875</td>\n",
       "    </tr>\n",
       "    <tr>\n",
       "      <td>2012-05-01</td>\n",
       "      <td>F112Q2008012</td>\n",
       "      <td>101000</td>\n",
       "      <td>0</td>\n",
       "      <td>0</td>\n",
       "      <td>3.875</td>\n",
       "    </tr>\n",
       "  </tbody>\n",
       "</table>\n",
       "</div>"
      ],
      "text/plain": [
       "              ln_seq_number  curr_actl_upb  curr_ln_delq_stas  ln_age  \\\n",
       "mth_reprt_prd                                                           \n",
       "2012-05-01     F112Q2008000         300000                  0       0   \n",
       "2012-05-01     F112Q2008002         169000                  0       0   \n",
       "2012-05-01     F112Q2008003         357000                  0       0   \n",
       "2012-05-01     F112Q2008004         417000                  0       0   \n",
       "2012-05-01     F112Q2008006         409000                  0       0   \n",
       "2012-05-01     F112Q2008007         400000                  0       0   \n",
       "2012-05-01     F112Q2008008         352000                  0       0   \n",
       "2012-05-01     F112Q2008010          90000                  0       0   \n",
       "2012-05-01     F112Q2008011         237000                  0       0   \n",
       "2012-05-01     F112Q2008012         101000                  0       0   \n",
       "\n",
       "               curr_int_rt  \n",
       "mth_reprt_prd               \n",
       "2012-05-01           3.875  \n",
       "2012-05-01           4.250  \n",
       "2012-05-01           3.625  \n",
       "2012-05-01           4.000  \n",
       "2012-05-01           4.125  \n",
       "2012-05-01           4.000  \n",
       "2012-05-01           4.000  \n",
       "2012-05-01           4.125  \n",
       "2012-05-01           3.875  \n",
       "2012-05-01           3.875  "
      ]
     },
     "execution_count": 2,
     "metadata": {},
     "output_type": "execute_result"
    }
   ],
   "source": [
    "df= pd.read_csv('Monthly_Performance.csv', parse_dates =['mth_reprt_prd'], index_col = 'mth_reprt_prd')\n",
    "df.head(10)"
   ]
  },
  {
   "cell_type": "code",
   "execution_count": 3,
   "metadata": {},
   "outputs": [
    {
     "data": {
      "text/plain": [
       "ln_seq_number         object\n",
       "curr_actl_upb          int64\n",
       "curr_ln_delq_stas      int64\n",
       "ln_age                 int64\n",
       "curr_int_rt          float64\n",
       "dtype: object"
      ]
     },
     "execution_count": 3,
     "metadata": {},
     "output_type": "execute_result"
    }
   ],
   "source": [
    "df.dtypes"
   ]
  },
  {
   "cell_type": "code",
   "execution_count": 5,
   "metadata": {},
   "outputs": [
    {
     "data": {
      "text/html": [
       "<div>\n",
       "<style scoped>\n",
       "    .dataframe tbody tr th:only-of-type {\n",
       "        vertical-align: middle;\n",
       "    }\n",
       "\n",
       "    .dataframe tbody tr th {\n",
       "        vertical-align: top;\n",
       "    }\n",
       "\n",
       "    .dataframe thead th {\n",
       "        text-align: right;\n",
       "    }\n",
       "</style>\n",
       "<table border=\"1\" class=\"dataframe\">\n",
       "  <thead>\n",
       "    <tr style=\"text-align: right;\">\n",
       "      <th></th>\n",
       "      <th>curr_actl_upb</th>\n",
       "      <th>curr_ln_delq_stas</th>\n",
       "      <th>ln_age</th>\n",
       "      <th>curr_int_rt</th>\n",
       "    </tr>\n",
       "  </thead>\n",
       "  <tbody>\n",
       "    <tr>\n",
       "      <td>curr_actl_upb</td>\n",
       "      <td>1.000000</td>\n",
       "      <td>-0.008934</td>\n",
       "      <td>-0.112715</td>\n",
       "      <td>-0.100314</td>\n",
       "    </tr>\n",
       "    <tr>\n",
       "      <td>curr_ln_delq_stas</td>\n",
       "      <td>-0.008934</td>\n",
       "      <td>1.000000</td>\n",
       "      <td>0.009642</td>\n",
       "      <td>-0.000661</td>\n",
       "    </tr>\n",
       "    <tr>\n",
       "      <td>ln_age</td>\n",
       "      <td>-0.112715</td>\n",
       "      <td>0.009642</td>\n",
       "      <td>1.000000</td>\n",
       "      <td>-0.033133</td>\n",
       "    </tr>\n",
       "    <tr>\n",
       "      <td>curr_int_rt</td>\n",
       "      <td>-0.100314</td>\n",
       "      <td>-0.000661</td>\n",
       "      <td>-0.033133</td>\n",
       "      <td>1.000000</td>\n",
       "    </tr>\n",
       "  </tbody>\n",
       "</table>\n",
       "</div>"
      ],
      "text/plain": [
       "                   curr_actl_upb  curr_ln_delq_stas    ln_age  curr_int_rt\n",
       "curr_actl_upb           1.000000          -0.008934 -0.112715    -0.100314\n",
       "curr_ln_delq_stas      -0.008934           1.000000  0.009642    -0.000661\n",
       "ln_age                 -0.112715           0.009642  1.000000    -0.033133\n",
       "curr_int_rt            -0.100314          -0.000661 -0.033133     1.000000"
      ]
     },
     "execution_count": 5,
     "metadata": {},
     "output_type": "execute_result"
    }
   ],
   "source": [
    "df.corr()"
   ]
  },
  {
   "cell_type": "code",
   "execution_count": 34,
   "metadata": {},
   "outputs": [],
   "source": [
    "#df1 = df.groupby('mth_reprt_prd')['curr_ln_delq_stas'].sum()\n",
    "#print(df1)"
   ]
  },
  {
   "cell_type": "code",
   "execution_count": 29,
   "metadata": {},
   "outputs": [
    {
     "name": "stderr",
     "output_type": "stream",
     "text": [
      "C:\\ProgramData\\Anaconda3\\lib\\site-packages\\pandas\\plotting\\_matplotlib\\converter.py:103: FutureWarning:\n",
      "\n",
      "Using an implicitly registered datetime converter for a matplotlib plotting method. The converter was registered by pandas on import. Future versions of pandas will require you to explicitly register matplotlib converters.\n",
      "\n",
      "To register the converters:\n",
      "\t>>> from pandas.plotting import register_matplotlib_converters\n",
      "\t>>> register_matplotlib_converters()\n",
      "\n"
     ]
    },
    {
     "data": {
      "image/png": "[encoded data removed]",
      "text/plain": [
       "<Figure size 1200x300 with 1 Axes>"
      ]
     },
     "metadata": {
      "needs_background": "light"
     },
     "output_type": "display_data"
    }
   ],
   "source": [
    "# Draw Plot\n",
    "def plot_df(df, x, y, title=\"\", xlabel='mth_reprt_prd', ylabel='curr_ln_delq_stas', dpi=100):\n",
    "    plt.figure(figsize=(12,3), dpi=dpi)\n",
    "    plt.plot(x, y, color='tab:blue')\n",
    "    plt.gca().set(title=title, xlabel=xlabel, ylabel=ylabel)\n",
    "    plt.show()\n",
    "\n",
    "plot_df(df, x=df.index, y=df.curr_ln_delq_stas, title='Delenqcy Status by Month Reporting Period') "
   ]
  },
  {
   "cell_type": "code",
   "execution_count": 30,
   "metadata": {},
   "outputs": [
    {
     "name": "stdout",
     "output_type": "stream",
     "text": [
      "ADF Statistic: -72.25295652704432\n",
      "p-value: 0.0\n",
      "Critial Values:\n",
      "   1%, -3.43037290846507\n",
      "Critial Values:\n",
      "   5%, -2.861550125255146\n",
      "Critial Values:\n",
      "   10%, -2.5667753893063745\n"
     ]
    },
    {
     "name": "stderr",
     "output_type": "stream",
     "text": [
      "C:\\ProgramData\\Anaconda3\\lib\\site-packages\\statsmodels\\tsa\\stattools.py:1685: FutureWarning:\n",
      "\n",
      "The behavior of using lags=None will change in the next release. Currently lags=None is the same as lags='legacy', and so a sample-size lag length is used. After the next release, the default will change to be the same as lags='auto' which uses an automatic lag length selection method. To silence this warning, either use 'auto' or 'legacy'\n",
      "\n",
      "C:\\ProgramData\\Anaconda3\\lib\\site-packages\\statsmodels\\tsa\\stattools.py:1708: InterpolationWarning:\n",
      "\n",
      "p-value is smaller than the indicated p-value\n",
      "\n"
     ]
    },
    {
     "name": "stdout",
     "output_type": "stream",
     "text": [
      "\n",
      "KPSS Statistic: 5.336390\n",
      "p-value: 0.010000\n",
      "Critial Values:\n",
      "   10%, 0.347\n",
      "Critial Values:\n",
      "   5%, 0.463\n",
      "Critial Values:\n",
      "   2.5%, 0.574\n",
      "Critial Values:\n",
      "   1%, 0.739\n"
     ]
    }
   ],
   "source": [
    "from statsmodels.tsa.stattools import adfuller, kpss\n",
    "\n",
    "# ADF Test\n",
    "result = adfuller(df.curr_ln_delq_stas.values, autolag='AIC')\n",
    "print(f'ADF Statistic: {result[0]}')\n",
    "print(f'p-value: {result[1]}')\n",
    "for key, value in result[4].items():\n",
    "    print('Critial Values:')\n",
    "    print(f'   {key}, {value}')\n",
    "\n",
    "# KPSS Test\n",
    "result = kpss(df.curr_ln_delq_stas.values, regression='c')\n",
    "print('\\nKPSS Statistic: %f' % result[0])\n",
    "print('p-value: %f' % result[1])\n",
    "for key, value in result[3].items():\n",
    "    print('Critial Values:')\n",
    "    print(f'   {key}, {value}')"
   ]
  },
  {
   "cell_type": "code",
   "execution_count": 31,
   "metadata": {},
   "outputs": [
    {
     "data": {
      "text/plain": [
       "Text(0.5, 1.0, 'Current Loan Delquency Status')"
      ]
     },
     "execution_count": 31,
     "metadata": {},
     "output_type": "execute_result"
    },
    {
     "data": {
      "image/png": "[encoded data removed]",
      "text/plain": [
       "<Figure size 432x288 with 1 Axes>"
      ]
     },
     "metadata": {
      "needs_background": "light"
     },
     "output_type": "display_data"
    }
   ],
   "source": [
    "# Using scipy: Subtract the line of best fit\n",
    "from scipy import signal\n",
    "detrended = signal.detrend(df.curr_ln_delq_stas.values)\n",
    "plt.plot(detrended)\n",
    "plt.title('Current Loan Delquency Status', fontsize=16)"
   ]
  },
  {
   "cell_type": "code",
   "execution_count": 33,
   "metadata": {
    "scrolled": false
   },
   "outputs": [
    {
     "data": {
      "text/html": [
       "<div>\n",
       "<style scoped>\n",
       "    .dataframe tbody tr th:only-of-type {\n",
       "        vertical-align: middle;\n",
       "    }\n",
       "\n",
       "    .dataframe tbody tr th {\n",
       "        vertical-align: top;\n",
       "    }\n",
       "\n",
       "    .dataframe thead th {\n",
       "        text-align: right;\n",
       "    }\n",
       "</style>\n",
       "<table border=\"1\" class=\"dataframe\">\n",
       "  <thead>\n",
       "    <tr style=\"text-align: right;\">\n",
       "      <th></th>\n",
       "      <th>ln_seq_number</th>\n",
       "      <th>curr_actl_upb</th>\n",
       "      <th>curr_ln_delq_stas</th>\n",
       "      <th>ln_age</th>\n",
       "      <th>curr_int_rt</th>\n",
       "    </tr>\n",
       "  </thead>\n",
       "  <tbody>\n",
       "    <tr>\n",
       "      <td>count</td>\n",
       "      <td>285506</td>\n",
       "      <td>285506.000000</td>\n",
       "      <td>285506.000000</td>\n",
       "      <td>285506.000000</td>\n",
       "      <td>285506.000000</td>\n",
       "    </tr>\n",
       "    <tr>\n",
       "      <td>unique</td>\n",
       "      <td>4999</td>\n",
       "      <td>NaN</td>\n",
       "      <td>NaN</td>\n",
       "      <td>NaN</td>\n",
       "      <td>NaN</td>\n",
       "    </tr>\n",
       "    <tr>\n",
       "      <td>top</td>\n",
       "      <td>F112Q2008499</td>\n",
       "      <td>NaN</td>\n",
       "      <td>NaN</td>\n",
       "      <td>NaN</td>\n",
       "      <td>NaN</td>\n",
       "    </tr>\n",
       "    <tr>\n",
       "      <td>freq</td>\n",
       "      <td>148</td>\n",
       "      <td>NaN</td>\n",
       "      <td>NaN</td>\n",
       "      <td>NaN</td>\n",
       "      <td>NaN</td>\n",
       "    </tr>\n",
       "    <tr>\n",
       "      <td>mean</td>\n",
       "      <td>NaN</td>\n",
       "      <td>200762.896717</td>\n",
       "      <td>0.011072</td>\n",
       "      <td>32.563554</td>\n",
       "      <td>4.018705</td>\n",
       "    </tr>\n",
       "    <tr>\n",
       "      <td>std</td>\n",
       "      <td>NaN</td>\n",
       "      <td>111137.760940</td>\n",
       "      <td>0.299548</td>\n",
       "      <td>20.944889</td>\n",
       "      <td>0.222041</td>\n",
       "    </tr>\n",
       "    <tr>\n",
       "      <td>min</td>\n",
       "      <td>NaN</td>\n",
       "      <td>0.000000</td>\n",
       "      <td>0.000000</td>\n",
       "      <td>0.000000</td>\n",
       "      <td>0.000000</td>\n",
       "    </tr>\n",
       "    <tr>\n",
       "      <td>25%</td>\n",
       "      <td>NaN</td>\n",
       "      <td>115624.000000</td>\n",
       "      <td>0.000000</td>\n",
       "      <td>14.000000</td>\n",
       "      <td>3.875000</td>\n",
       "    </tr>\n",
       "    <tr>\n",
       "      <td>50%</td>\n",
       "      <td>NaN</td>\n",
       "      <td>178130.000000</td>\n",
       "      <td>0.000000</td>\n",
       "      <td>31.000000</td>\n",
       "      <td>4.000000</td>\n",
       "    </tr>\n",
       "    <tr>\n",
       "      <td>75%</td>\n",
       "      <td>NaN</td>\n",
       "      <td>268146.750000</td>\n",
       "      <td>0.000000</td>\n",
       "      <td>50.000000</td>\n",
       "      <td>4.125000</td>\n",
       "    </tr>\n",
       "    <tr>\n",
       "      <td>max</td>\n",
       "      <td>NaN</td>\n",
       "      <td>788000.000000</td>\n",
       "      <td>21.000000</td>\n",
       "      <td>73.000000</td>\n",
       "      <td>5.375000</td>\n",
       "    </tr>\n",
       "  </tbody>\n",
       "</table>\n",
       "</div>"
      ],
      "text/plain": [
       "       ln_seq_number  curr_actl_upb  curr_ln_delq_stas         ln_age  \\\n",
       "count         285506  285506.000000      285506.000000  285506.000000   \n",
       "unique          4999            NaN                NaN            NaN   \n",
       "top     F112Q2008499            NaN                NaN            NaN   \n",
       "freq             148            NaN                NaN            NaN   \n",
       "mean             NaN  200762.896717           0.011072      32.563554   \n",
       "std              NaN  111137.760940           0.299548      20.944889   \n",
       "min              NaN       0.000000           0.000000       0.000000   \n",
       "25%              NaN  115624.000000           0.000000      14.000000   \n",
       "50%              NaN  178130.000000           0.000000      31.000000   \n",
       "75%              NaN  268146.750000           0.000000      50.000000   \n",
       "max              NaN  788000.000000          21.000000      73.000000   \n",
       "\n",
       "          curr_int_rt  \n",
       "count   285506.000000  \n",
       "unique            NaN  \n",
       "top               NaN  \n",
       "freq              NaN  \n",
       "mean         4.018705  \n",
       "std          0.222041  \n",
       "min          0.000000  \n",
       "25%          3.875000  \n",
       "50%          4.000000  \n",
       "75%          4.125000  \n",
       "max          5.375000  "
      ]
     },
     "execution_count": 33,
     "metadata": {},
     "output_type": "execute_result"
    }
   ],
   "source": [
    "df.describe(include = 'all')"
   ]
  },
  {
   "cell_type": "code",
   "execution_count": 37,
   "metadata": {},
   "outputs": [],
   "source": [
    "import numpy as np\n",
    "import pandas as pd\n",
    "from matplotlib import pyplot as plt\n",
    "from statsmodels.tsa.stattools import adfuller\n",
    "from statsmodels.tsa.seasonal import seasonal_decompose\n",
    "from statsmodels.tsa.arima_model import ARIMA\n",
    "from pandas.plotting import register_matplotlib_converters\n",
    "register_matplotlib_converters()\n",
    "from pandas.plotting import autocorrelation_plot"
   ]
  },
  {
   "cell_type": "code",
   "execution_count": 38,
   "metadata": {},
   "outputs": [
    {
     "name": "stdout",
     "output_type": "stream",
     "text": [
      "               curr_ln_delq_stas\n",
      "mth_reprt_prd                   \n",
      "2012-05-01              0.000000\n",
      "2012-06-01              0.000206\n",
      "2012-07-01              0.003935\n",
      "2012-08-01              0.001574\n",
      "2012-09-01              0.001184\n",
      "...                          ...\n",
      "2018-02-01              0.017180\n",
      "2018-03-01              0.021238\n",
      "2018-04-01              0.019565\n",
      "2018-05-01              0.019751\n",
      "2018-06-01              0.019926\n",
      "\n",
      "[74 rows x 1 columns]\n"
     ]
    }
   ],
   "source": [
    "df1 = pd.pivot_table(df, values ='curr_ln_delq_stas', index ='mth_reprt_prd')\n",
    "print(df1)"
   ]
  },
  {
   "cell_type": "code",
   "execution_count": 39,
   "metadata": {},
   "outputs": [
    {
     "data": {
      "image/png": "[encoded data removed]",
      "text/plain": [
       "<Figure size 432x288 with 1 Axes>"
      ]
     },
     "metadata": {
      "needs_background": "light"
     },
     "output_type": "display_data"
    }
   ],
   "source": [
    "autocorrelation_plot(df1)\n",
    "plt.show()"
   ]
  },
  {
   "cell_type": "code",
   "execution_count": 40,
   "metadata": {},
   "outputs": [],
   "source": [
    "from statsmodels.tsa.arima_model import ARIMA"
   ]
  },
  {
   "cell_type": "code",
   "execution_count": 49,
   "metadata": {},
   "outputs": [
    {
     "name": "stderr",
     "output_type": "stream",
     "text": [
      "C:\\ProgramData\\Anaconda3\\lib\\site-packages\\statsmodels\\tsa\\base\\tsa_model.py:165: ValueWarning:\n",
      "\n",
      "No frequency information was provided, so inferred frequency MS will be used.\n",
      "\n",
      "C:\\ProgramData\\Anaconda3\\lib\\site-packages\\statsmodels\\tsa\\base\\tsa_model.py:165: ValueWarning:\n",
      "\n",
      "No frequency information was provided, so inferred frequency MS will be used.\n",
      "\n"
     ]
    },
    {
     "name": "stdout",
     "output_type": "stream",
     "text": [
      "                              ARIMA Model Results                              \n",
      "===============================================================================\n",
      "Dep. Variable:     D.curr_ln_delq_stas   No. Observations:                   73\n",
      "Model:                 ARIMA(12, 1, 0)   Log Likelihood                 316.260\n",
      "Method:                        css-mle   S.D. of innovations              0.003\n",
      "Date:                 Thu, 14 Nov 2019   AIC                           -604.520\n",
      "Time:                         18:14:19   BIC                           -572.453\n",
      "Sample:                     06-01-2012   HQIC                          -591.741\n",
      "                          - 06-01-2018                                         \n",
      "==============================================================================================\n",
      "                                 coef    std err          z      P>|z|      [0.025      0.975]\n",
      "----------------------------------------------------------------------------------------------\n",
      "const                          0.0003      0.000      0.890      0.377      -0.000       0.001\n",
      "ar.L1.D.curr_ln_delq_stas     -0.6652      0.117     -5.700      0.000      -0.894      -0.436\n",
      "ar.L2.D.curr_ln_delq_stas     -0.3403      0.137     -2.485      0.016      -0.609      -0.072\n",
      "ar.L3.D.curr_ln_delq_stas      0.2934      0.143      2.050      0.045       0.013       0.574\n",
      "ar.L4.D.curr_ln_delq_stas      0.2156      0.142      1.522      0.133      -0.062       0.493\n",
      "ar.L5.D.curr_ln_delq_stas     -0.1111      0.131     -0.849      0.399      -0.368       0.145\n",
      "ar.L6.D.curr_ln_delq_stas     -0.0668      0.131     -0.511      0.612      -0.323       0.190\n",
      "ar.L7.D.curr_ln_delq_stas      0.2211      0.129      1.719      0.091      -0.031       0.473\n",
      "ar.L8.D.curr_ln_delq_stas      0.4803      0.130      3.695      0.000       0.226       0.735\n",
      "ar.L9.D.curr_ln_delq_stas      0.1792      0.141      1.266      0.210      -0.098       0.456\n",
      "ar.L10.D.curr_ln_delq_stas    -0.0973      0.140     -0.695      0.490      -0.372       0.177\n",
      "ar.L11.D.curr_ln_delq_stas    -0.2050      0.134     -1.525      0.133      -0.468       0.059\n",
      "ar.L12.D.curr_ln_delq_stas    -0.0320      0.114     -0.280      0.781      -0.256       0.192\n",
      "                                    Roots                                     \n",
      "==============================================================================\n",
      "                   Real          Imaginary           Modulus         Frequency\n",
      "------------------------------------------------------------------------------\n",
      "AR.1             0.7184           -0.8178j            1.0885           -0.1353\n",
      "AR.2             0.7184           +0.8178j            1.0885            0.1353\n",
      "AR.3             1.2707           -0.0945j            1.2742           -0.0118\n",
      "AR.4             1.2707           +0.0945j            1.2742            0.0118\n",
      "AR.5            -0.1476           -1.0683j            1.0785           -0.2719\n",
      "AR.6            -0.1476           +1.0683j            1.0785            0.2719\n",
      "AR.7            -0.5856           -1.0129j            1.1700           -0.3334\n",
      "AR.8            -0.5856           +1.0129j            1.1700            0.3334\n",
      "AR.9            -1.1577           -0.0000j            1.1577           -0.5000\n",
      "AR.10           -0.9882           -0.7399j            1.2345           -0.3977\n",
      "AR.11           -0.9882           +0.7399j            1.2345            0.3977\n",
      "AR.12           -5.7758           -0.0000j            5.7758           -0.5000\n",
      "------------------------------------------------------------------------------\n"
     ]
    },
    {
     "data": {
      "image/png": "[encoded data removed]",
      "text/plain": [
       "<Figure size 432x288 with 1 Axes>"
      ]
     },
     "metadata": {
      "needs_background": "light"
     },
     "output_type": "display_data"
    },
    {
     "data": {
      "image/png": "[encoded data removed]",
      "text/plain": [
       "<Figure size 432x288 with 1 Axes>"
      ]
     },
     "metadata": {
      "needs_background": "light"
     },
     "output_type": "display_data"
    },
    {
     "name": "stdout",
     "output_type": "stream",
     "text": [
      "               0\n",
      "count  73.000000\n",
      "mean    0.000009\n",
      "std     0.003160\n",
      "min    -0.007891\n",
      "25%    -0.002187\n",
      "50%    -0.000074\n",
      "75%     0.001898\n",
      "max     0.008425\n"
     ]
    }
   ],
   "source": [
    "model = ARIMA(df1, order =(12,1,0))\n",
    "model_fit = model.fit(disp=0)\n",
    "print(model_fit.summary())\n",
    "\n",
    "residuals = pd.DataFrame(model_fit.resid)\n",
    "residuals.plot()\n",
    "residuals.plot(kind ='kde')\n",
    "plt.show()\n",
    "print(residuals.describe())"
   ]
  },
  {
   "cell_type": "code",
   "execution_count": 42,
   "metadata": {
    "scrolled": true
   },
   "outputs": [
    {
     "name": "stdout",
     "output_type": "stream",
     "text": [
      "predicted=0.012324, expected=0.012099\n",
      "predicted=0.010781, expected=0.006843\n",
      "predicted=0.005545, expected=0.007819\n",
      "predicted=0.009193, expected=0.013470\n",
      "predicted=0.010132, expected=0.009507\n",
      "predicted=0.008977, expected=0.005747\n",
      "predicted=0.011019, expected=0.006150\n",
      "predicted=0.008117, expected=0.007477\n",
      "predicted=0.005335, expected=0.007595\n",
      "predicted=0.006502, expected=0.006371\n",
      "predicted=0.007445, expected=0.011214\n",
      "predicted=0.009455, expected=0.008080\n",
      "predicted=0.007957, expected=0.010770\n",
      "predicted=0.011220, expected=0.009247\n",
      "predicted=0.009791, expected=0.011714\n",
      "predicted=0.010854, expected=0.014517\n",
      "predicted=0.012476, expected=0.012996\n",
      "predicted=0.013177, expected=0.016603\n",
      "predicted=0.016422, expected=0.014649\n",
      "predicted=0.015094, expected=0.017939\n",
      "predicted=0.017465, expected=0.019210\n",
      "predicted=0.018006, expected=0.017180\n",
      "predicted=0.018538, expected=0.021238\n",
      "predicted=0.020933, expected=0.019565\n",
      "predicted=0.019458, expected=0.019751\n",
      "predicted=0.021046, expected=0.019926\n",
      "Test MSE: 0.000\n"
     ]
    },
    {
     "data": {
      "image/png": "[encoded data removed]",
      "text/plain": [
       "<Figure size 432x288 with 1 Axes>"
      ]
     },
     "metadata": {
      "needs_background": "light"
     },
     "output_type": "display_data"
    }
   ],
   "source": [
    "from sklearn.metrics import mean_squared_error\n",
    "\n",
    "X = df1.values\n",
    "size = int(len(X) * 0.66)\n",
    "train, test = X[0:size], X[size:len(X)]\n",
    "history = [x for x in train]\n",
    "predictions = []\n",
    "for t in range(len(test)):\n",
    "    model = ARIMA(history, order=(5,1,0))\n",
    "    model_fit = model.fit(disp=0)\n",
    "    output = model_fit.forecast()\n",
    "    yhat = output[0]\n",
    "    predictions.append(yhat)\n",
    "    obs = test[t]\n",
    "    history.append(obs)\n",
    "    print('predicted=%f, expected=%f' % (yhat, obs))\n",
    "error = mean_squared_error(test, predictions)\n",
    "print('Test MSE: %.3f' % error)\n",
    "# plot\n",
    "plt.plot(test)\n",
    "plt.plot(predictions, color='red')\n",
    "plt.show()"
   ]
  },
  {
   "cell_type": "code",
   "execution_count": 45,
   "metadata": {},
   "outputs": [
    {
     "data": {
      "text/html": [
       "<div>\n",
       "<style scoped>\n",
       "    .dataframe tbody tr th:only-of-type {\n",
       "        vertical-align: middle;\n",
       "    }\n",
       "\n",
       "    .dataframe tbody tr th {\n",
       "        vertical-align: top;\n",
       "    }\n",
       "\n",
       "    .dataframe thead th {\n",
       "        text-align: right;\n",
       "    }\n",
       "</style>\n",
       "<table border=\"1\" class=\"dataframe\">\n",
       "  <thead>\n",
       "    <tr style=\"text-align: right;\">\n",
       "      <th></th>\n",
       "      <th>curr_actl_upb</th>\n",
       "      <th>curr_ln_delq_stas</th>\n",
       "      <th>ln_age</th>\n",
       "      <th>curr_int_rt</th>\n",
       "    </tr>\n",
       "  </thead>\n",
       "  <tbody>\n",
       "    <tr>\n",
       "      <td>curr_actl_upb</td>\n",
       "      <td>1.000000</td>\n",
       "      <td>-0.008934</td>\n",
       "      <td>-0.112715</td>\n",
       "      <td>-0.100314</td>\n",
       "    </tr>\n",
       "    <tr>\n",
       "      <td>curr_ln_delq_stas</td>\n",
       "      <td>-0.008934</td>\n",
       "      <td>1.000000</td>\n",
       "      <td>0.009642</td>\n",
       "      <td>-0.000661</td>\n",
       "    </tr>\n",
       "    <tr>\n",
       "      <td>ln_age</td>\n",
       "      <td>-0.112715</td>\n",
       "      <td>0.009642</td>\n",
       "      <td>1.000000</td>\n",
       "      <td>-0.033133</td>\n",
       "    </tr>\n",
       "    <tr>\n",
       "      <td>curr_int_rt</td>\n",
       "      <td>-0.100314</td>\n",
       "      <td>-0.000661</td>\n",
       "      <td>-0.033133</td>\n",
       "      <td>1.000000</td>\n",
       "    </tr>\n",
       "  </tbody>\n",
       "</table>\n",
       "</div>"
      ],
      "text/plain": [
       "                   curr_actl_upb  curr_ln_delq_stas    ln_age  curr_int_rt\n",
       "curr_actl_upb           1.000000          -0.008934 -0.112715    -0.100314\n",
       "curr_ln_delq_stas      -0.008934           1.000000  0.009642    -0.000661\n",
       "ln_age                 -0.112715           0.009642  1.000000    -0.033133\n",
       "curr_int_rt            -0.100314          -0.000661 -0.033133     1.000000"
      ]
     },
     "execution_count": 45,
     "metadata": {},
     "output_type": "execute_result"
    }
   ],
   "source": [
    "df.corr()"
   ]
  },
  {
   "cell_type": "code",
   "execution_count": 46,
   "metadata": {},
   "outputs": [],
   "source": [
    "df['Year']=df.index.year\n",
    "df['Month'] =df.index.month"
   ]
  },
  {
   "cell_type": "code",
   "execution_count": 47,
   "metadata": {},
   "outputs": [
    {
     "data": {
      "text/plain": [
       "<matplotlib.axes._subplots.AxesSubplot at 0x1bb81f66548>"
      ]
     },
     "execution_count": 47,
     "metadata": {},
     "output_type": "execute_result"
    },
    {
     "data": {
      "image/png": "[encoded data removed]",
      "text/plain": [
       "<Figure size 432x288 with 1 Axes>"
      ]
     },
     "metadata": {
      "needs_background": "light"
     },
     "output_type": "display_data"
    }
   ],
   "source": [
    "sns.boxplot(data=df, x='Month', y='curr_ln_delq_stas')"
   ]
  },
  {
   "cell_type": "code",
   "execution_count": 48,
   "metadata": {},
   "outputs": [
    {
     "data": {
      "text/plain": [
       "[<matplotlib.lines.Line2D at 0x1bbe7f7bec8>]"
      ]
     },
     "execution_count": 48,
     "metadata": {},
     "output_type": "execute_result"
    },
    {
     "data": {
      "image/png": "[encoded data removed]",
      "text/plain": [
       "<Figure size 432x288 with 1 Axes>"
      ]
     },
     "metadata": {
      "needs_background": "light"
     },
     "output_type": "display_data"
    }
   ],
   "source": [
    "plt.plot(df1)"
   ]
  }
 ],
 "metadata": {
  "kernelspec": {
   "display_name": "Python 3",
   "language": "python",
   "name": "python3"
  },
  "language_info": {
   "codemirror_mode": {
    "name": "ipython",
    "version": 3
   },
   "file_extension": ".py",
   "mimetype": "text/x-python",
   "name": "python",
   "nbconvert_exporter": "python",
   "pygments_lexer": "ipython3",
   "version": "3.7.4"
  }
 },
 "nbformat": 4,
 "nbformat_minor": 2
}
