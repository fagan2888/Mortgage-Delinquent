{
 "cells": [
  {
   "cell_type": "code",
   "execution_count": null,
   "metadata": {},
   "outputs": [],
   "source": [
    "\n",
    "#a =hv.Points( \n",
    "    data = df,\n",
    "    kdims =['credit_score','orig_debt_to_inc'],\n",
    "    vdims =['property_type','seller_name','occupancy_status'],\n",
    ").groupby(['seller_name','occupancy_status'],\n",
    "         ).opts( apply_ranges =True,data_aspect =0,tools =['hover',],width = 500,\n",
    "                height =500,show_legend =False,size=25)\n",
    "a\n"
   ]
  }
 ],
 "metadata": {
  "kernelspec": {
   "display_name": "Python 3",
   "language": "python",
   "name": "python3"
  },
  "language_info": {
   "codemirror_mode": {
    "name": "ipython",
    "version": 3
   },
   "file_extension": ".py",
   "mimetype": "text/x-python",
   "name": "python",
   "nbconvert_exporter": "python",
   "pygments_lexer": "ipython3",
   "version": "3.7.4"
  }
 },
 "nbformat": 4,
 "nbformat_minor": 2
}
